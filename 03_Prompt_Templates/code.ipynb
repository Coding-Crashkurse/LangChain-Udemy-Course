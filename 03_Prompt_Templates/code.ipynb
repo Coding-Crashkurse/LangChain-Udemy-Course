{
 "cells": [
  {
   "cell_type": "markdown",
   "metadata": {},
   "source": [
    "### Prompts\n",
    "\n",
    "Prompt allow you to create System Messages with input variables, for example, this:\n",
    "**SystemMessage(content=\"You are a helpful assistant that translates the English to Spanish.\")**\n",
    "English and Spanish may be dynamic. This can be archieved with templates"
   ]
  },
  {
   "cell_type": "code",
   "execution_count": null,
   "metadata": {},
   "outputs": [],
   "source": [
    "from dotenv import load_dotenv, find_dotenv\n",
    "\n",
    "load_dotenv(find_dotenv())"
   ]
  },
  {
   "cell_type": "code",
   "execution_count": null,
   "metadata": {},
   "outputs": [],
   "source": [
    "TEMPLATE = \"\"\"\n",
    "You are a helpful assistant that translates the {input_language} to {output_language}\n",
    "\"\"\""
   ]
  },
  {
   "cell_type": "code",
   "execution_count": null,
   "metadata": {},
   "outputs": [],
   "source": [
    "from langchain.prompts.prompt import PromptTemplate\n",
    "\n",
    "prompt_template = PromptTemplate.from_template(\n",
    "    template=TEMPLATE\n",
    ")\n",
    "prompt_template.format(input_language=\"english\", output_language=\"german\")"
   ]
  },
  {
   "cell_type": "markdown",
   "metadata": {},
   "source": [
    "Passing the input_variables to the constructor will provide additional validation for the template"
   ]
  },
  {
   "cell_type": "code",
   "execution_count": null,
   "metadata": {},
   "outputs": [],
   "source": [
    "prompt_template = PromptTemplate(template=TEMPLATE, input_variables=[\"input_language\", \"output_language\"])\n",
    "prompt_template.format(input_language=\"english\", output_language=\"german\")\n"
   ]
  },
  {
   "cell_type": "markdown",
   "metadata": {},
   "source": [
    "### Few Shot Prompt - provide a few examples in the template"
   ]
  },
  {
   "cell_type": "code",
   "execution_count": null,
   "metadata": {},
   "outputs": [],
   "source": [
    "TEMPLATE = \"\"\"\n",
    "Interprete the text and evaluate the text.\n",
    "sentiment: is the text in a positive, neutral or negative sentiment?\n",
    "subject: What subject is the text about? Use exactly one word.\n",
    "\n",
    "Format the output as JSON with the following keys:\n",
    "sentiment\n",
    "subject\n",
    "\n",
    "text: {input}\n",
    "\"\"\""
   ]
  },
  {
   "cell_type": "markdown",
   "metadata": {},
   "source": [
    "To improve performance we can provide examples to increase the quality of the output."
   ]
  },
  {
   "cell_type": "code",
   "execution_count": null,
   "metadata": {},
   "outputs": [],
   "source": [
    "TEMPLATE = \"\"\"\n",
    "Interprete the text and evaluate the text.\n",
    "sentiment: is the text in a positive, neutral or negative sentiment?\n",
    "subject: What subject is the text about? Use exactly one word.\n",
    "\n",
    "Format the output as JSON with the following keys:\n",
    "sentiment\n",
    "subject\n",
    "\n",
    "text: {input}\n",
    "\n",
    "Examples:\n",
    "text: The BellaVista restaurant offers an exquisite dining experience. The flavors are rich and the presentation is impeccable.\n",
    "sentiment: positive\n",
    "subject: BellaVista\n",
    "\n",
    "text: BellaVista restaurant was alright. The food was decent, but nothing stood out.\n",
    "sentiment: neutral\n",
    "subject: BellaVista\n",
    "\n",
    "text: I was disappointed with BellaVista. The service was slow and the dishes lacked flavor.\n",
    "sentiment: negative\n",
    "subject: BellaVista\n",
    "\n",
    "text: SeoulSavor offered the most authentic Korean flavors I've tasted outside of Seoul. The kimchi was perfectly fermented and spicy.\n",
    "sentiment: positive\n",
    "subject: SeoulSavor\n",
    "\n",
    "text: SeoulSavor was okay. The bibimbap was good but the bulgogi was a bit too sweet for my taste.\n",
    "sentiment: neutral\n",
    "subject: SeoulSavor\n",
    "\n",
    "text: I didn't enjoy my meal at SeoulSavor. The tteokbokki was too mushy and the service was not attentive.\n",
    "sentiment: negative\n",
    "subject: SeoulSavor\n",
    "\n",
    "text: MunichMeals has the best bratwurst and sauerkraut I've tasted outside of Bavaria. Their beer garden ambiance is truly authentic.\n",
    "sentiment: positive\n",
    "subject: MunichMeals\n",
    "\n",
    "text: MunichMeals was alright. The weisswurst was okay, but I've had better elsewhere.\n",
    "sentiment: neutral\n",
    "subject: MunichMeals\n",
    "\n",
    "text: I was let down by MunichMeals. The potato salad lacked flavor and the staff seemed uninterested.\n",
    "sentiment: negative\n",
    "subject: MunichMeals\n",
    "\"\"\"\n"
   ]
  },
  {
   "cell_type": "code",
   "execution_count": null,
   "metadata": {},
   "outputs": [],
   "source": [
    "prompt_template = PromptTemplate(template=TEMPLATE, input_variables=[\"input\"])\n",
    "prompt_template.format(input=\"The MunichDeals experience was just awesome!\")"
   ]
  },
  {
   "cell_type": "markdown",
   "metadata": {},
   "source": [
    "LangChain also provides a FewShotPromptTemplate class, which allows creating the examples more modularized"
   ]
  },
  {
   "cell_type": "code",
   "execution_count": null,
   "metadata": {},
   "outputs": [],
   "source": [
    "from langchain.prompts.few_shot import FewShotPromptTemplate\n",
    "from langchain.prompts.prompt import PromptTemplate\n",
    "\n",
    "examples = [\n",
    "    {\n",
    "        \"text\": \"The BellaVista restaurant offers an exquisite dining experience. The flavors are rich and the presentation is impeccable.\",\n",
    "        \"response\": \"sentiment: positive\\nsubject: BellaVista\"\n",
    "    },\n",
    "    {\n",
    "        \"text\": \"BellaVista restaurant was alright. The food was decent, but nothing stood out.\",\n",
    "        \"response\": \"sentiment: neutral\\nsubject: BellaVista\"\n",
    "    },\n",
    "    ### other examples are left out\n",
    "]"
   ]
  },
  {
   "cell_type": "code",
   "execution_count": null,
   "metadata": {},
   "outputs": [],
   "source": [
    "new_example = {\n",
    "    \"text\": \"SeoulSavor was okay. The bibimbap was good but the bulgogi was a bit too sweet for my taste.\",\n",
    "    \"response\": \"sentiment: neutral\\nsubject: SeoulSavor\"\n",
    "}\n",
    "examples.append(new_example)"
   ]
  },
  {
   "cell_type": "code",
   "execution_count": null,
   "metadata": {},
   "outputs": [],
   "source": [
    "example_prompt = PromptTemplate(input_variables=[\"text\", \"response\"], template=\"Text: {text}\\n{response}\")"
   ]
  },
  {
   "cell_type": "code",
   "execution_count": null,
   "metadata": {},
   "outputs": [],
   "source": [
    "prompt = FewShotPromptTemplate(\n",
    "    examples=examples,\n",
    "    example_prompt=example_prompt,\n",
    "    suffix=\"text: {input}\",\n",
    "    input_variables=[\"input\"]\n",
    ")"
   ]
  },
  {
   "cell_type": "code",
   "execution_count": null,
   "metadata": {},
   "outputs": [],
   "source": [
    "print(prompt.format(input=\"The MunichDeals experience was just awesome!\"))"
   ]
  },
  {
   "cell_type": "markdown",
   "metadata": {},
   "source": [
    "### Chain-of-thought Prompting\n",
    "\n",
    "Instead of just providing examples, we can also provide examples which include the whole thought process of why a review is negative, neutral or positive"
   ]
  },
  {
   "cell_type": "code",
   "execution_count": null,
   "metadata": {},
   "outputs": [],
   "source": [
    "TEMPLATE = \"\"\"\n",
    "Interprete the text and evaluate the text. Determine if the text has a positive, neutral, or negative sentiment. Also, identify the subject of the text in one word.\n",
    "\n",
    "Format the output as JSON with the following keys:\n",
    "sentiment\n",
    "subject\n",
    "\n",
    "text: {input}\n",
    "\n",
    "Chain-of-Thought Prompts:\n",
    "Let's start by evaluating a statement. Consider: \"The BellaVista restaurant offers an exquisite dining experience. The flavors are rich and the presentation is impeccable.\" How does this make you feel about BellaVista?\n",
    " It sounds like a positive review for BellaVista.\n",
    "\n",
    "Based on the positive nature of that statement, how would you format your response?\n",
    " { \"sentiment\": \"positive\", \"subject\": \"BellaVista\" }\n",
    "\n",
    "Now, think about this: \"SeoulSavor was okay. The bibimbap was good but the bulgogi was a bit too sweet for my taste.\" Does this give a strong feeling either way?\n",
    " Not particularly. It seems like a mix of good and not-so-good elements, so it's neutral.\n",
    "\n",
    "Given the neutral sentiment, how should this be presented?\n",
    " { \"sentiment\": \"neutral\", \"subject\": \"SeoulSavor\" }\n",
    "\n",
    "Lastly, ponder on this: \"I was let down by MunichMeals. The potato salad lacked flavor and the staff seemed uninterested.\" What's the overall impression here?\n",
    " The statement is expressing disappointment and dissatisfaction.\n",
    "\n",
    "And if you were to categorize this impression, what would it be?\n",
    " { \"sentiment\": \"negative\", \"subject\": \"MunichMeals\" }\n",
    "\"\"\""
   ]
  },
  {
   "cell_type": "markdown",
   "metadata": {},
   "source": [
    "### Composition\n",
    "\n",
    "You can also compose multiple prompts together. This can be especially useful if you want to reuse parts of prompts."
   ]
  },
  {
   "cell_type": "code",
   "execution_count": null,
   "metadata": {},
   "outputs": [],
   "source": [
    "from langchain.prompts.pipeline import PipelinePromptTemplate\n",
    "from langchain.prompts.prompt import PromptTemplate\n",
    "\n",
    "# Introduction\n",
    "introduction_template = \"\"\"\n",
    "Interprete the text and evaluate the text. Determine if the text has a positive, neutral, or negative sentiment. Also, identify the subject of the text in one word.\n",
    "\"\"\"\n",
    "introduction_prompt = PromptTemplate.from_template(introduction_template)\n",
    "\n",
    "# Example\n",
    "example_template = \"\"\"\n",
    "Chain-of-Thought Prompts:\n",
    "Let's start by evaluating a statement. Consider: \"{example_text}\". How does this make you feel about {example_subject}?\n",
    "Response: {example_evaluation}\n",
    "\n",
    "Based on the {example_sentiment} nature of that statement, how would you format your response?\n",
    "Response: {example_format}\n",
    "\"\"\"\n",
    "example_prompt = PromptTemplate.from_template(example_template)\n",
    "\n",
    "# Execution\n",
    "execution_template = \"\"\"\n",
    "Now, execute this process for the text: \"{input}\".\n",
    "\"\"\"\n",
    "execution_prompt = PromptTemplate.from_template(execution_template)\n",
    "\n",
    "# Composing the full prompt\n",
    "full_template = \"\"\"{introduction}\n",
    "\n",
    "{example}\n",
    "\n",
    "{execution}\"\"\"\n",
    "full_prompt = PromptTemplate.from_template(full_template)\n",
    "\n",
    "# PipelinePrompts\n",
    "input_prompts = [\n",
    "    (\"introduction\", introduction_prompt),\n",
    "    (\"example\", example_prompt),\n",
    "    (\"execution\", execution_prompt)\n",
    "]\n",
    "pipeline_prompt = PipelinePromptTemplate(final_prompt=full_prompt, pipeline_prompts=input_prompts)\n",
    "\n",
    "\n"
   ]
  },
  {
   "cell_type": "code",
   "execution_count": null,
   "metadata": {},
   "outputs": [],
   "source": [
    "print(pipeline_prompt.format(\n",
    "    example_text=\"The BellaVista restaurant offers an exquisite dining experience. The flavors are rich and the presentation is impeccable.\",\n",
    "    example_subject=\"BellaVista\",\n",
    "    example_evaluation=\"It sounds like a positive review for BellaVista.\",\n",
    "    example_sentiment=\"positive\",\n",
    "    example_format='{ \"sentiment\": \"positive\", \"subject\": \"BellaVista\" }',\n",
    "    input=\"The new restaurant downtown has bland dishes and the wait time is too long.\"\n",
    "))"
   ]
  },
  {
   "cell_type": "markdown",
   "metadata": {},
   "source": [
    "### Serializing prompts\n",
    "\n",
    "Example is an easy prompt since serializing does not work for the **PipelinePromptTemplate** (yet)"
   ]
  },
  {
   "cell_type": "code",
   "execution_count": null,
   "metadata": {},
   "outputs": [],
   "source": [
    "prompt = PromptTemplate(input_variables=[\"input\"], template=\"Tell me a joke about {input}\")\n",
    "prompt.save(\"prompt.yaml\")\n",
    "prompt.save(\"prompt.json\")"
   ]
  },
  {
   "cell_type": "code",
   "execution_count": null,
   "metadata": {},
   "outputs": [],
   "source": [
    "from langchain.prompts import load_prompt\n",
    "\n",
    "prompt = load_prompt(\"prompt.yaml\")\n",
    "prompt.format(input=\"chickens\")"
   ]
  },
  {
   "cell_type": "code",
   "execution_count": null,
   "metadata": {},
   "outputs": [],
   "source": [
    "prompt = load_prompt(\"prompt.json\")\n",
    "prompt.format(input=\"cows\")"
   ]
  }
 ],
 "metadata": {
  "kernelspec": {
   "display_name": "Python 3",
   "language": "python",
   "name": "python3"
  },
  "language_info": {
   "codemirror_mode": {
    "name": "ipython",
    "version": 3
   },
   "file_extension": ".py",
   "mimetype": "text/x-python",
   "name": "python",
   "nbconvert_exporter": "python",
   "pygments_lexer": "ipython3",
   "version": "3.11.0"
  }
 },
 "nbformat": 4,
 "nbformat_minor": 2
}
